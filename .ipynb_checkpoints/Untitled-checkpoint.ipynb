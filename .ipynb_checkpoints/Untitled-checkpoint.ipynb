{
 "cells": [
  {
   "cell_type": "code",
   "execution_count": 70,
   "id": "c55665c9-051d-4b84-be84-1718d5ede23a",
   "metadata": {},
   "outputs": [],
   "source": [
    "import fil\n",
    "import time\n",
    "from selenium import webdriver\n",
    "from selenium_stealth import stealth\n",
    "from selenium.webdriver.common.by import By\n",
    "from selenium.webdriver.support.ui import WebDriverWait\n",
    "from selenium.common.exceptions import NoSuchElementException\n",
    "from selenium.webdriver.support import expected_conditions as EC\n",
    "\n",
    "\n",
    "options = webdriver.ChromeOptions()\n",
    "options.add_argument('user-agent=Mozilla/5.0 (Macintosh; Intel Mac OS X 10_15_7) AppleWebKit/537.36 (KHTML, like Gecko) Chrome/119.0.0.0 Safari/537.36')\n",
    "options.add_argument(\"start-maximized\")\n",
    "options.add_argument(\"--headless\")\n",
    "options.add_experimental_option(\"excludeSwitches\", [\"enable-automation\"])\n",
    "options.add_experimental_option('useAutomationExtension', False)\n",
    "driver = webdriver.Chrome(options=options)\n",
    "\n",
    "stealth(driver,\n",
    "    languages=[\"en-US\", \"en\"],\n",
    "    vendor=\"Google Inc.\",\n",
    "    platform=\"Win32\",\n",
    "    webgl_vendor=\"Intel Inc.\",\n",
    "    renderer=\"Intel Iris OpenGL Engine\",\n",
    "    fix_hairline=True,\n",
    ")"
   ]
  },
  {
   "cell_type": "code",
   "execution_count": 71,
   "id": "bb2e6b7d-340f-4433-9556-0a478fec0ba4",
   "metadata": {},
   "outputs": [],
   "source": [
    "url = 'https://www.alto.com/careers'\n",
    "#'https://careers.smartrecruiters.com/Square'\n",
    "driver.get)\n",
    "\n",
    "driver.implicitly_wait(2)"
   ]
  },
  {
   "cell_type": "code",
   "execution_count": 72,
   "id": "6ce4ed1a-8df1-4d21-8f08-eebc84dca545",
   "metadata": {},
   "outputs": [
    {
     "name": "stdout",
     "output_type": "stream",
     "text": [
      "scroll down\n",
      "scroll down\n",
      "scroll down\n",
      "scroll down\n",
      "scroll down\n",
      "scroll down\n",
      "scroll down\n",
      "scroll down\n",
      "done scrolling\n"
     ]
    }
   ],
   "source": [
    "# this code scrolls to the bottom of the page\n",
    "prev_height = driver.execute_script(\"return document.body.scrollHeight\")\n",
    "while True:\n",
    "    print('scroll down', flush=True)\n",
    "    driver.execute_script(\"window.scrollTo(0, document.body.scrollHeight);\")\n",
    "    time.sleep(2)\n",
    "    new_height = driver.execute_script(\"return document.body.scrollHeight\")\n",
    "    if new_height == prev_height: break\n",
    "    prev_height = new_height\n",
    "print('done scrolling', flush=True)"
   ]
  },
  {
   "cell_type": "code",
   "execution_count": 74,
   "id": "9f18df85-08a8-4404-9a89-2bf8043f6fa2",
   "metadata": {},
   "outputs": [
    {
     "name": "stdout",
     "output_type": "stream",
     "text": [
      "no more links to click\n"
     ]
    }
   ],
   "source": [
    "# this code clicks every \"Show more jobs\" link\n",
    "wait = WebDriverWait(driver, 10)\n",
    "while True:\n",
    "    try: element = wait.until(EC.element_to_be_clickable((By.XPATH, \"//a[text()='Show more jobs']\")))\n",
    "    except: break\n",
    "    print('found link(s), clicking one', flush=True)\n",
    "    driver.execute_script(\"arguments[0].scrollIntoView(true);\", element)\n",
    "    driver.execute_script(\"arguments[0].click();\", element)\n",
    "print('no more links to click', flush=True)"
   ]
  },
  {
   "cell_type": "code",
   "execution_count": null,
   "id": "1def612e-f9f5-46ed-ba9b-072d9a37626a",
   "metadata": {},
   "outputs": [],
   "source": [
    "# this code clicks every \"Show more jobs\" link\n",
    "wait = WebDriverWait(driver, 10)\n",
    "while True:\n",
    "    try: element = wait.until(EC.element_to_be_clickable((By.XPATH, \"//a[text()='Show more jobs']\")))\n",
    "    except: break\n",
    "    print('found link(s), clicking one', flush=True)\n",
    "    driver.execute_script(\"arguments[0].scrollIntoView(true);\", element)\n",
    "    driver.execute_script(\"arguments[0].click();\", element)\n",
    "print('no more links to click', flush=True)"
   ]
  },
  {
   "cell_type": "code",
   "execution_count": null,
   "id": "2a0058d5-1dec-425c-8955-3c57dcae49f9",
   "metadata": {},
   "outputs": [],
   "source": []
  },
  {
   "cell_type": "code",
   "execution_count": null,
   "id": "dddabe0c-4cc0-423b-abf5-187f7f299c2a",
   "metadata": {},
   "outputs": [],
   "source": [
    "with open('page_content_sr5.html', 'w', encoding='utf-8') as f:\n",
    "    f.write(driver.page_source)\n",
    "\n",
    "driver.quit()"
   ]
  }
 ],
 "metadata": {
  "kernelspec": {
   "display_name": "greenhouse-monitor",
   "language": "python",
   "name": "greenhouse-monitor"
  },
  "language_info": {
   "codemirror_mode": {
    "name": "ipython",
    "version": 3
   },
   "file_extension": ".py",
   "mimetype": "text/x-python",
   "name": "python",
   "nbconvert_exporter": "python",
   "pygments_lexer": "ipython3",
   "version": "3.11.4"
  }
 },
 "nbformat": 4,
 "nbformat_minor": 5
}
