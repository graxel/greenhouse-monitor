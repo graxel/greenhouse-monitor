{
 "cells": [
  {
   "cell_type": "code",
   "execution_count": 69,
   "id": "43a79d93-8cf9-49db-aeab-d3e4f984a37d",
   "metadata": {},
   "outputs": [],
   "source": [
    "import sys\n",
    "import time\n",
    "import random\n",
    "import requests\n",
    "from selenium import webdriver\n",
    "from datetime import datetime as dt\n",
    "from selenium_stealth import stealth\n",
    "from selenium.webdriver.common.by import By\n",
    "from selenium.webdriver.support.ui import WebDriverWait\n",
    "from selenium.common.exceptions import NoSuchElementException, StaleElementReferenceException\n",
    "from selenium.webdriver.support import expected_conditions as EC\n",
    "\n",
    "import add_root\n",
    "import fil\n",
    "\n",
    "\n",
    "options = webdriver.ChromeOptions()\n",
    "options.add_argument('user-agent=Mozilla/5.0 (Windows NT 10.0; Win64; x64) AppleWebKit/537.36 (KHTML, like Gecko) Chrome/120.0.0.0 Safari/537.36')\n",
    "options.add_argument(\"start-maximized\")\n",
    "options.add_experimental_option(\"excludeSwitches\", [\"enable-automation\"])\n",
    "options.add_experimental_option('useAutomationExtension', False)"
   ]
  },
  {
   "cell_type": "code",
   "execution_count": 70,
   "id": "0a6475f8-7919-4985-ba17-806cffcda15d",
   "metadata": {},
   "outputs": [],
   "source": [
    "# options.add_argument(\"--headless\")\n",
    "\n",
    "driver = webdriver.Chrome(options=options)\n",
    "\n",
    "stealth(driver,\n",
    "    languages=[\"en-US\", \"en\"],\n",
    "    vendor=\"Google Inc.\",\n",
    "    platform=\"Win32\",\n",
    "    webgl_vendor=\"Intel Inc.\",\n",
    "    renderer=\"Intel Iris OpenGL Engine\",\n",
    "    fix_hairline=True,\n",
    ")"
   ]
  },
  {
   "cell_type": "code",
   "execution_count": 6,
   "id": "94c6576b-4ee3-4112-b87d-d5f1286a7d9d",
   "metadata": {},
   "outputs": [],
   "source": [
    "def get_company_to_scrape():\n",
    "    company_id = 1\n",
    "    company_name = 'moo'\n",
    "    website_url = 'https://careers.smartrecruiters.com/TransitionalCareManagement'\n",
    "    website_type = 'smartrecruiters'\n",
    "    return company_id, company_name, website_url, website_type\n",
    "\n",
    "def scrape_with_requests(website_url):\n",
    "    print('\\tscraping with requests', flush=True)\n",
    "    user_agent = 'user-agent=Mozilla/5.0 (Macintosh; Intel Mac OS X 10_15_7) AppleWebKit/537.36 (KHTML, like Gecko) Chrome/119.0.0.0 Safari/537.36'\n",
    "    response = requests.get(website_url, headers={'User-Agent': user_agent})\n",
    "    return response.text\n",
    "    \n",
    "def sel_scroll(driver):\n",
    "    prev_height = driver.execute_script(\"return document.body.scrollHeight\")\n",
    "    while True:\n",
    "        print('\\tscrolling down', flush=True)\n",
    "        driver.execute_script(\"window.scrollTo(0, document.body.scrollHeight);\")\n",
    "        time.sleep(1)\n",
    "        new_height = driver.execute_script(\"return document.body.scrollHeight\")\n",
    "        if new_height == prev_height: break\n",
    "        prev_height = new_height\n",
    "\n",
    "        \n",
    "def sel_expand(driver):\n",
    "    # expand all accordion buttons\n",
    "    try: \n",
    "        joblist = driver.find_element(by=By.ID, value=\"all-open-roles-1\")\n",
    "        butts = joblist.find_elements(By.TAG_NAME, \"button\")\n",
    "        for butt in butts:\n",
    "            print('\\tclicking accordion button', flush=True)\n",
    "            butt.click()\n",
    "    except NoSuchElementException:\n",
    "        pass\n",
    "\n",
    "def scrape_with_selenium(driver, website_url):\n",
    "    print('\\tscraping with selenium', flush=True)\n",
    "    driver.get(website_url)\n",
    "\n",
    "    driver.implicitly_wait(2)\n",
    "\n",
    "    sel_scroll(driver)\n",
    "\n",
    "    sel_show_more_jobs(driver)\n",
    "\n",
    "    sel_expand(driver)\n",
    "\n",
    "    return driver.page_source\n"
   ]
  },
  {
   "cell_type": "code",
   "execution_count": 78,
   "id": "571f1abc-ab02-4103-b5a3-86122a4ddf59",
   "metadata": {},
   "outputs": [
    {
     "name": "stdout",
     "output_type": "stream",
     "text": [
      "\tscraping with selenium\n",
      "\tscrolling down\n",
      "\tscrolling down\n",
      "\tclicking \"Show more jobs\"\n",
      "\tclicking \"Show more jobs\"\n",
      "\tclicking \"Show more jobs\"\n",
      "\tclicking \"Show more jobs\"\n",
      "\tclicking \"Show more jobs\"\n",
      "found a stale one\n",
      "\tclicking \"Show more jobs\"\n",
      "\tclicking \"Show more jobs\"\n",
      "\tclicking \"Show more jobs\"\n",
      "\tclicking \"Show more jobs\"\n",
      "found a stale one\n",
      "\tclicking \"Show more jobs\"\n",
      "\tclicking \"Show more jobs\"\n",
      "\tclicking \"Show more jobs\"\n",
      "\tclicking \"Show more jobs\"\n",
      "found a stale one\n",
      "\tclicking \"Show more jobs\"\n",
      "\tclicking \"Show more jobs\"\n",
      "\tclicking \"Show more jobs\"\n",
      "\tclicking \"Show more jobs\"\n",
      "found a stale one\n",
      "\tclicking \"Show more jobs\"\n",
      "\tclicking \"Show more jobs\"\n",
      "\tclicking \"Show more jobs\"\n",
      "\tclicking \"Show more jobs\"\n",
      "found a stale one\n",
      "finished!!!\n"
     ]
    }
   ],
   "source": [
    "# options.add_argument(\"--headless\")\n",
    "driver = webdriver.Chrome(options=options)\n",
    "stealth(driver,\n",
    "    languages=[\"en-US\", \"en\"],\n",
    "    vendor=\"Google Inc.\",\n",
    "    platform=\"Win32\",\n",
    "    webgl_vendor=\"Intel Inc.\",\n",
    "    renderer=\"Intel Iris OpenGL Engine\",\n",
    "    fix_hairline=True,)\n",
    "\n",
    "company_id, company_name, website_url, website_type = get_company_to_scrape()\n",
    "wait_time = random.uniform(4, 10)\n",
    "time.sleep(wait_time)\n",
    "\n",
    "if website_url.startswith('https://boards.greenhouse.io'):\n",
    "    page_content = scrape_with_requests(website_url)\n",
    "else:\n",
    "    print('\\tscraping with selenium', flush=True)\n",
    "    driver.get(website_url)\n",
    "    driver.implicitly_wait(2)\n",
    "    sel_scroll(driver)\n",
    "\n",
    "    while True:\n",
    "        try: \n",
    "            more_links = driver.find_elements(By.XPATH, \"//a[text()='Show more jobs']\")\n",
    "            if more_links:\n",
    "                print('\\tclicking \"Show more jobs\"', flush=True)\n",
    "                driver.execute_script(\"arguments[0].scrollIntoView(true);\", more_links[-1])\n",
    "                time.sleep(0.2)\n",
    "                driver.execute_script(\"arguments[0].click();\", more_links[-1])\n",
    "            else:\n",
    "                print('finished!!!')\n",
    "                break\n",
    "        except StaleElementReferenceException:\n",
    "            print('found a stale one')\n",
    "        \n",
    "        except Exception as e:\n",
    "            print(e)\n",
    "        #     sys.exit()\n",
    "\n",
    "    sel_expand(driver)\n",
    "    page_content = driver.page_source"
   ]
  },
  {
   "cell_type": "code",
   "execution_count": 66,
   "id": "06723573-2329-4eaa-a13f-748a102c5ced",
   "metadata": {},
   "outputs": [
    {
     "data": {
      "text/plain": [
       "1"
      ]
     },
     "execution_count": 66,
     "metadata": {},
     "output_type": "execute_result"
    }
   ],
   "source": [
    "[1][-1]"
   ]
  },
  {
   "cell_type": "code",
   "execution_count": 44,
   "id": "b8aa24b5-7187-4756-b600-0140971d43c7",
   "metadata": {},
   "outputs": [
    {
     "data": {
      "text/plain": [
       "<selenium.webdriver.remote.webelement.WebElement (session=\"f531bd279dd7ec5ee4589637e1429da4\", element=\"F3FCADBB5A986D708945A3D11322FE2E_element_33\")>"
      ]
     },
     "execution_count": 44,
     "metadata": {},
     "output_type": "execute_result"
    }
   ],
   "source": [
    "wait.until(EC.element_to_be_clickable((By.XPATH, \"//a[text()='Show more jobs']\")))"
   ]
  },
  {
   "cell_type": "code",
   "execution_count": 45,
   "id": "a300ddd8-59fe-4bae-a304-b7125ddc7daf",
   "metadata": {
    "scrolled": true
   },
   "outputs": [
    {
     "ename": "NoSuchElementException",
     "evalue": "Message: no such element: No node with given id found\n  (Session info: chrome=120.0.6099.71); For documentation on this error, please visit: https://www.selenium.dev/documentation/webdriver/troubleshooting/errors#no-such-element-exception\nStacktrace:\n0   chromedriver                        0x00000001009144cc chromedriver + 4162764\n1   chromedriver                        0x000000010090c654 chromedriver + 4130388\n2   chromedriver                        0x0000000100563bc0 chromedriver + 293824\n3   chromedriver                        0x000000010054c0d8 chromedriver + 196824\n4   chromedriver                        0x0000000100549e84 chromedriver + 188036\n5   chromedriver                        0x000000010054ab30 chromedriver + 191280\n6   chromedriver                        0x00000001005725c4 chromedriver + 353732\n7   chromedriver                        0x0000000100569af0 chromedriver + 318192\n8   chromedriver                        0x0000000100569bc8 chromedriver + 318408\n9   chromedriver                        0x000000010056817c chromedriver + 311676\n10  chromedriver                        0x000000010056b4d0 chromedriver + 324816\n11  chromedriver                        0x00000001005ea46c chromedriver + 844908\n12  chromedriver                        0x00000001005e9ab0 chromedriver + 842416\n13  chromedriver                        0x000000010059d6bc chromedriver + 530108\n14  chromedriver                        0x000000010059e930 chromedriver + 534832\n15  chromedriver                        0x00000001008d9df8 chromedriver + 3923448\n16  chromedriver                        0x00000001008de3cc chromedriver + 3941324\n17  chromedriver                        0x00000001008c2028 chromedriver + 3825704\n18  chromedriver                        0x00000001008def2c chromedriver + 3944236\n19  chromedriver                        0x00000001008b46e4 chromedriver + 3770084\n20  chromedriver                        0x00000001008fb970 chromedriver + 4061552\n21  chromedriver                        0x00000001008fbae8 chromedriver + 4061928\n22  chromedriver                        0x000000010090c2d4 chromedriver + 4129492\n23  libsystem_pthread.dylib             0x0000000194007fa8 _pthread_start + 148\n24  libsystem_pthread.dylib             0x0000000194002da0 thread_start + 8\n",
     "output_type": "error",
     "traceback": [
      "\u001b[0;31m---------------------------------------------------------------------------\u001b[0m",
      "\u001b[0;31mNoSuchElementException\u001b[0m                    Traceback (most recent call last)",
      "Cell \u001b[0;32mIn[45], line 1\u001b[0m\n\u001b[0;32m----> 1\u001b[0m \u001b[43mdriver\u001b[49m\u001b[38;5;241;43m.\u001b[39;49m\u001b[43mexecute_script\u001b[49m\u001b[43m(\u001b[49m\u001b[38;5;124;43m\"\u001b[39;49m\u001b[38;5;124;43marguments[0].click();\u001b[39;49m\u001b[38;5;124;43m\"\u001b[39;49m\u001b[43m,\u001b[49m\u001b[43m \u001b[49m\u001b[43mmore_link\u001b[49m\u001b[43m)\u001b[49m\n",
      "File \u001b[0;32m~/.local/share/virtualenvs/greenhouse-monitor-6CmbjVMT/lib/python3.11/site-packages/selenium/webdriver/remote/webdriver.py:408\u001b[0m, in \u001b[0;36mWebDriver.execute_script\u001b[0;34m(self, script, *args)\u001b[0m\n\u001b[1;32m    405\u001b[0m converted_args \u001b[38;5;241m=\u001b[39m \u001b[38;5;28mlist\u001b[39m(args)\n\u001b[1;32m    406\u001b[0m command \u001b[38;5;241m=\u001b[39m Command\u001b[38;5;241m.\u001b[39mW3C_EXECUTE_SCRIPT\n\u001b[0;32m--> 408\u001b[0m \u001b[38;5;28;01mreturn\u001b[39;00m \u001b[38;5;28;43mself\u001b[39;49m\u001b[38;5;241;43m.\u001b[39;49m\u001b[43mexecute\u001b[49m\u001b[43m(\u001b[49m\u001b[43mcommand\u001b[49m\u001b[43m,\u001b[49m\u001b[43m \u001b[49m\u001b[43m{\u001b[49m\u001b[38;5;124;43m\"\u001b[39;49m\u001b[38;5;124;43mscript\u001b[39;49m\u001b[38;5;124;43m\"\u001b[39;49m\u001b[43m:\u001b[49m\u001b[43m \u001b[49m\u001b[43mscript\u001b[49m\u001b[43m,\u001b[49m\u001b[43m \u001b[49m\u001b[38;5;124;43m\"\u001b[39;49m\u001b[38;5;124;43margs\u001b[39;49m\u001b[38;5;124;43m\"\u001b[39;49m\u001b[43m:\u001b[49m\u001b[43m \u001b[49m\u001b[43mconverted_args\u001b[49m\u001b[43m}\u001b[49m\u001b[43m)\u001b[49m[\u001b[38;5;124m\"\u001b[39m\u001b[38;5;124mvalue\u001b[39m\u001b[38;5;124m\"\u001b[39m]\n",
      "File \u001b[0;32m~/.local/share/virtualenvs/greenhouse-monitor-6CmbjVMT/lib/python3.11/site-packages/selenium/webdriver/remote/webdriver.py:348\u001b[0m, in \u001b[0;36mWebDriver.execute\u001b[0;34m(self, driver_command, params)\u001b[0m\n\u001b[1;32m    346\u001b[0m response \u001b[38;5;241m=\u001b[39m \u001b[38;5;28mself\u001b[39m\u001b[38;5;241m.\u001b[39mcommand_executor\u001b[38;5;241m.\u001b[39mexecute(driver_command, params)\n\u001b[1;32m    347\u001b[0m \u001b[38;5;28;01mif\u001b[39;00m response:\n\u001b[0;32m--> 348\u001b[0m     \u001b[38;5;28;43mself\u001b[39;49m\u001b[38;5;241;43m.\u001b[39;49m\u001b[43merror_handler\u001b[49m\u001b[38;5;241;43m.\u001b[39;49m\u001b[43mcheck_response\u001b[49m\u001b[43m(\u001b[49m\u001b[43mresponse\u001b[49m\u001b[43m)\u001b[49m\n\u001b[1;32m    349\u001b[0m     response[\u001b[38;5;124m\"\u001b[39m\u001b[38;5;124mvalue\u001b[39m\u001b[38;5;124m\"\u001b[39m] \u001b[38;5;241m=\u001b[39m \u001b[38;5;28mself\u001b[39m\u001b[38;5;241m.\u001b[39m_unwrap_value(response\u001b[38;5;241m.\u001b[39mget(\u001b[38;5;124m\"\u001b[39m\u001b[38;5;124mvalue\u001b[39m\u001b[38;5;124m\"\u001b[39m, \u001b[38;5;28;01mNone\u001b[39;00m))\n\u001b[1;32m    350\u001b[0m     \u001b[38;5;28;01mreturn\u001b[39;00m response\n",
      "File \u001b[0;32m~/.local/share/virtualenvs/greenhouse-monitor-6CmbjVMT/lib/python3.11/site-packages/selenium/webdriver/remote/errorhandler.py:229\u001b[0m, in \u001b[0;36mErrorHandler.check_response\u001b[0;34m(self, response)\u001b[0m\n\u001b[1;32m    227\u001b[0m         alert_text \u001b[38;5;241m=\u001b[39m value[\u001b[38;5;124m\"\u001b[39m\u001b[38;5;124malert\u001b[39m\u001b[38;5;124m\"\u001b[39m]\u001b[38;5;241m.\u001b[39mget(\u001b[38;5;124m\"\u001b[39m\u001b[38;5;124mtext\u001b[39m\u001b[38;5;124m\"\u001b[39m)\n\u001b[1;32m    228\u001b[0m     \u001b[38;5;28;01mraise\u001b[39;00m exception_class(message, screen, stacktrace, alert_text)  \u001b[38;5;66;03m# type: ignore[call-arg]  # mypy is not smart enough here\u001b[39;00m\n\u001b[0;32m--> 229\u001b[0m \u001b[38;5;28;01mraise\u001b[39;00m exception_class(message, screen, stacktrace)\n",
      "\u001b[0;31mNoSuchElementException\u001b[0m: Message: no such element: No node with given id found\n  (Session info: chrome=120.0.6099.71); For documentation on this error, please visit: https://www.selenium.dev/documentation/webdriver/troubleshooting/errors#no-such-element-exception\nStacktrace:\n0   chromedriver                        0x00000001009144cc chromedriver + 4162764\n1   chromedriver                        0x000000010090c654 chromedriver + 4130388\n2   chromedriver                        0x0000000100563bc0 chromedriver + 293824\n3   chromedriver                        0x000000010054c0d8 chromedriver + 196824\n4   chromedriver                        0x0000000100549e84 chromedriver + 188036\n5   chromedriver                        0x000000010054ab30 chromedriver + 191280\n6   chromedriver                        0x00000001005725c4 chromedriver + 353732\n7   chromedriver                        0x0000000100569af0 chromedriver + 318192\n8   chromedriver                        0x0000000100569bc8 chromedriver + 318408\n9   chromedriver                        0x000000010056817c chromedriver + 311676\n10  chromedriver                        0x000000010056b4d0 chromedriver + 324816\n11  chromedriver                        0x00000001005ea46c chromedriver + 844908\n12  chromedriver                        0x00000001005e9ab0 chromedriver + 842416\n13  chromedriver                        0x000000010059d6bc chromedriver + 530108\n14  chromedriver                        0x000000010059e930 chromedriver + 534832\n15  chromedriver                        0x00000001008d9df8 chromedriver + 3923448\n16  chromedriver                        0x00000001008de3cc chromedriver + 3941324\n17  chromedriver                        0x00000001008c2028 chromedriver + 3825704\n18  chromedriver                        0x00000001008def2c chromedriver + 3944236\n19  chromedriver                        0x00000001008b46e4 chromedriver + 3770084\n20  chromedriver                        0x00000001008fb970 chromedriver + 4061552\n21  chromedriver                        0x00000001008fbae8 chromedriver + 4061928\n22  chromedriver                        0x000000010090c2d4 chromedriver + 4129492\n23  libsystem_pthread.dylib             0x0000000194007fa8 _pthread_start + 148\n24  libsystem_pthread.dylib             0x0000000194002da0 thread_start + 8\n"
     ]
    }
   ],
   "source": [
    "driver.execute_script(\"arguments[0].click();\", more_link)"
   ]
  },
  {
   "cell_type": "code",
   "execution_count": 50,
   "id": "df78e632-e9f7-4238-a60b-95f94bd97218",
   "metadata": {},
   "outputs": [],
   "source": [
    "more_links = driver.find_elements(By.XPATH, \"//a[text()='Show more jobs']\")\n",
    "driver.execute_script(\"arguments[0].click();\", more_links[-1])"
   ]
  },
  {
   "cell_type": "code",
   "execution_count": null,
   "id": "b293a02f-5506-403c-b91f-2eacc86d49e9",
   "metadata": {},
   "outputs": [],
   "source": [
    "driver.find_elements(By.XPATH, \"//a[text()='Show more jobs']\")"
   ]
  },
  {
   "cell_type": "code",
   "execution_count": 77,
   "id": "7fd08059-6ef8-46c5-b133-f0f5c1f143ff",
   "metadata": {},
   "outputs": [],
   "source": [
    "driver.quit()"
   ]
  },
  {
   "cell_type": "code",
   "execution_count": null,
   "id": "4efd7258-73b5-4053-b37c-7258606f6ab9",
   "metadata": {},
   "outputs": [],
   "source": []
  }
 ],
 "metadata": {
  "kernelspec": {
   "display_name": "greenhouse-monitor",
   "language": "python",
   "name": "greenhouse-monitor"
  },
  "language_info": {
   "codemirror_mode": {
    "name": "ipython",
    "version": 3
   },
   "file_extension": ".py",
   "mimetype": "text/x-python",
   "name": "python",
   "nbconvert_exporter": "python",
   "pygments_lexer": "ipython3",
   "version": "3.11.4"
  }
 },
 "nbformat": 4,
 "nbformat_minor": 5
}
